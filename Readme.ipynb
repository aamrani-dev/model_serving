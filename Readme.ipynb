{
 "cells": [
  {
   "cell_type": "markdown",
   "id": "a2f2c83b",
   "metadata": {},
   "source": [
    "# Model Serving\n",
    "\n",
    "Serve your Deep Learning models using Triton Inference Server, introduced by NVIDA.\n",
    "\n",
    "This project aims to offer a High-Level tool to the user to serve DL models in the one hand and perform inferences through a Python API in the other hand.\n",
    "\n"
   ]
  },
  {
   "cell_type": "markdown",
   "id": "47d8df59",
   "metadata": {},
   "source": [
    "## Documentation\n",
    "\n",
    "\n",
    "* [Quick start](docs/quickstart.md.ipynb)\n",
    "* [Model Repository](docs/model_repository.md.ipynb)\n",
    "* [Preprocessing and postprocessing methods](docs/pre_post_processing.md.ipynb)\n",
    "* [utils](docs/utils.md.ipynb)"
   ]
  }
 ],
 "metadata": {
  "kernelspec": {
   "display_name": "Python 3",
   "language": "python",
   "name": "python3"
  },
  "language_info": {
   "codemirror_mode": {
    "name": "ipython",
    "version": 3
   },
   "file_extension": ".py",
   "mimetype": "text/x-python",
   "name": "python",
   "nbconvert_exporter": "python",
   "pygments_lexer": "ipython3",
   "version": "3.7.10"
  }
 },
 "nbformat": 4,
 "nbformat_minor": 5
}
