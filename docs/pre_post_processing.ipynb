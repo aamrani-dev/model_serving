{
 "cells": [
  {
   "cell_type": "markdown",
   "id": "0645a768",
   "metadata": {},
   "source": [
    "# Preprocessing and postprocessing methods\n",
    "\n",
    "To serve the model, we need to provide two methods: preorpcessing and postprocessing. Indeed, the inference goes through three steps: preoprocessing, inference and postprocessing. \n",
    "\n",
    "These two methods must be defined in a file having as the model. This file must be saved inside the model folder in the model repository. \n",
    "\n",
    "Bellow is an example of a model's folder architecture: "
   ]
  },
  {
   "attachments": {},
   "cell_type": "markdown",
   "id": "81d90dff",
   "metadata": {},
   "source": [
    "![pre_post_processing.png](img/pre_post_processing.png)"
   ]
  },
  {
   "cell_type": "markdown",
   "id": "7f8c1c6b",
   "metadata": {},
   "source": [
    "**mnist.py:**\n",
    "    "
   ]
  },
  {
   "cell_type": "code",
   "execution_count": null,
   "id": "3f7be9e2",
   "metadata": {},
   "outputs": [],
   "source": [
    "import numpy as np \n",
    "\n",
    "\n",
    "def preprocessing(data): \n",
    "\treturn data \n",
    "\n",
    "def postprocessing(predictions): \n",
    "    class_names = ['T-shirt/top', 'Trouser', 'Pullover', 'Dress', 'Coat',\n",
    "               'Sandal', 'Shirt', 'Sneaker', 'Bag', 'Ankle boot']\n",
    "    \n",
    "    res = [class_names[np.argmax(pred)] for pred in predictions]\n",
    "    return res \n"
   ]
  }
 ],
 "metadata": {
  "kernelspec": {
   "display_name": "Python 3",
   "language": "python",
   "name": "python3"
  },
  "language_info": {
   "codemirror_mode": {
    "name": "ipython",
    "version": 3
   },
   "file_extension": ".py",
   "mimetype": "text/x-python",
   "name": "python",
   "nbconvert_exporter": "python",
   "pygments_lexer": "ipython3",
   "version": "3.7.10"
  }
 },
 "nbformat": 4,
 "nbformat_minor": 5
}
