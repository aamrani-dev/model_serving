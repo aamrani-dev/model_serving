{
 "cells": [
  {
   "cell_type": "markdown",
   "id": "4fbc8e54",
   "metadata": {},
   "source": [
    "# Model Serving\n",
    "\n",
    "Serve your Deep Learning models using Triton Inference Server, introduced by NVIDA. \n",
    "\n",
    "This project aims to offer a High-Level tool to the user to serve DL models in the one hand and perform inferences through a Python API in the other hand. \n",
    "\n",
    "## Start Triton Inferencer Server\n",
    "\n"
   ]
  },
  {
   "cell_type": "raw",
   "id": "ecb6b0ea",
   "metadata": {},
   "source": [
    "$ triton start"
   ]
  },
  {
   "attachments": {},
   "cell_type": "markdown",
   "id": "735c2971",
   "metadata": {},
   "source": [
    "![model_ready.png](img/model_ready.png)"
   ]
  },
  {
   "cell_type": "markdown",
   "id": "ed9816e6",
   "metadata": {},
   "source": [
    "## Stop Trtion Inference Server"
   ]
  },
  {
   "cell_type": "raw",
   "id": "09b8943a",
   "metadata": {},
   "source": [
    "$ triton stop"
   ]
  },
  {
   "cell_type": "markdown",
   "id": "7f5887ac",
   "metadata": {},
   "source": [
    "## Check if the server is running \n"
   ]
  },
  {
   "cell_type": "raw",
   "id": "f50831c3",
   "metadata": {},
   "source": [
    "$ triton is_alive"
   ]
  },
  {
   "cell_type": "raw",
   "id": "34b36222",
   "metadata": {},
   "source": [
    "THE SERVER IS NOT RUNNING"
   ]
  }
 ],
 "metadata": {
  "kernelspec": {
   "display_name": "Python 3",
   "language": "python",
   "name": "python3"
  },
  "language_info": {
   "codemirror_mode": {
    "name": "ipython",
    "version": 3
   },
   "file_extension": ".py",
   "mimetype": "text/x-python",
   "name": "python",
   "nbconvert_exporter": "python",
   "pygments_lexer": "ipython3",
   "version": "3.7.10"
  }
 },
 "nbformat": 4,
 "nbformat_minor": 5
}
