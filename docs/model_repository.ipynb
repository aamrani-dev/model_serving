{
 "cells": [
  {
   "cell_type": "markdown",
   "id": "097f6766",
   "metadata": {},
   "source": [
    "# Model respository\n",
    "\n",
    "The model repository is folder that contains the different models to serve. It has a special architecture, specified in the [Triton Inference Serve documentation](https://github.com/triton-inference-server/server/blob/main/docs/model_repository.md). \n",
    "\n",
    "A global variable **MODEL_REPOSITORY** must be set to the absolute path of the model repository. \n",
    "\n",
    "\n"
   ]
  },
  {
   "cell_type": "markdown",
   "id": "8491a0ba",
   "metadata": {},
   "source": [
    "## Model repository archietcture\n",
    "\n",
    "Each model is reprenseted by a folder Triton will use to deploy. A model folder folder contains two main items: \n",
    "\n",
    "* config.pbtxt: a file that must be named **config.pbtxt** and contains the configuration of the model such as the input and output layers of the model, the preferred batch size, etc. To learn more about model configuration, please refer to [Triton Inference Server documentation](https://github.com/triton-inference-server/server/blob/main/docs/model_configuration.md).\n",
    "\n",
    "* version: a folder wich has as name an integer from 1. It represents the different versions of the models. The oldest one is the version 1. This folder contains the model to deploy (.pb file, .pt file, etc.) \n",
    "\n",
    "\n"
   ]
  },
  {
   "cell_type": "raw",
   "id": "21cb1c39",
   "metadata": {},
   "source": [
    "  <model-repository-path>/\n",
    "    <model-name>/\n",
    "      [config.pbtxt]\n",
    "      [<output-labels-file> ...]\n",
    "      <version>/\n",
    "        <model-definition-file>\n",
    "      <version>/\n",
    "        <model-definition-file>\n",
    "      ...\n",
    "    <model-name>/\n",
    "      [config.pbtxt]\n",
    "      [<output-labels-file> ...]\n",
    "      <version>/\n",
    "        <model-definition-file>\n",
    "      <version>/\n",
    "        <model-definition-file>\n",
    "      ...\n",
    "    ...\n"
   ]
  }
 ],
 "metadata": {
  "kernelspec": {
   "display_name": "Python 3",
   "language": "python",
   "name": "python3"
  },
  "language_info": {
   "codemirror_mode": {
    "name": "ipython",
    "version": 3
   },
   "file_extension": ".py",
   "mimetype": "text/x-python",
   "name": "python",
   "nbconvert_exporter": "python",
   "pygments_lexer": "ipython3",
   "version": "3.7.10"
  }
 },
 "nbformat": 4,
 "nbformat_minor": 5
}
