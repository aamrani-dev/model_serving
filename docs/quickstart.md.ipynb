{
 "cells": [
  {
   "cell_type": "markdown",
   "id": "9c6a8a05",
   "metadata": {},
   "source": [
    "# Model Serving\n",
    "\n",
    "Serve your Deep Learning models using Triton Inference Server, introduced by NVIDA. \n",
    "\n",
    "This project aims to offer a High-Level tool to the user to serve DL models in the one hand and perform inferences through a Python API in the other hand. \n",
    "\n",
    "## Start Triton Inferencer Server\n",
    "\n"
   ]
  },
  {
   "cell_type": "raw",
   "id": "ecb6b0ea",
   "metadata": {},
   "source": [
    "$ triton start"
   ]
  },
  {
   "cell_type": "raw",
   "id": "b3bdb274",
   "metadata": {},
   "source": [
    "+----------------------+---------+--------+\n",
    "| Model                | Version | Status |\n",
    "+----------------------+---------+--------+\n",
    "| <model_name>         | <v>     | READY  |\n",
    "| ..                   | .       | ..     |\n",
    "| ..                   | .       | ..     |\n",
    "+----------------------+---------+--------+\n",
    "...\n",
    "...\n",
    "...\n",
    "I1002 21:58:57.891440 62 grpc_server.cc:3914] Started GRPCInferenceService at 0.0.0.0:8001\n",
    "I1002 21:58:57.893177 62 http_server.cc:2717] Started HTTPService at 0.0.0.0:8000\n",
    "I1002 21:58:57.935518 62 http_server.cc:2736] Started Metrics Service at 0.0.0.0:8002\n"
   ]
  },
  {
   "cell_type": "markdown",
   "id": "ed9816e6",
   "metadata": {},
   "source": [
    "## Stop Trtion Inference Server"
   ]
  },
  {
   "cell_type": "raw",
   "id": "09b8943a",
   "metadata": {},
   "source": [
    "$ triton stop"
   ]
  },
  {
   "cell_type": "markdown",
   "id": "7f5887ac",
   "metadata": {},
   "source": [
    "## Check if the server is running \n"
   ]
  },
  {
   "cell_type": "raw",
   "id": "f50831c3",
   "metadata": {},
   "source": [
    "$ triton is_alive"
   ]
  },
  {
   "cell_type": "raw",
   "id": "34b36222",
   "metadata": {},
   "source": [
    "THE SERVER IS NOT RUNNING"
   ]
  },
  {
   "cell_type": "code",
   "execution_count": null,
   "id": "25f8ee0e",
   "metadata": {},
   "outputs": [],
   "source": []
  }
 ],
 "metadata": {
  "kernelspec": {
   "display_name": "Python 3",
   "language": "python",
   "name": "python3"
  },
  "language_info": {
   "codemirror_mode": {
    "name": "ipython",
    "version": 3
   },
   "file_extension": ".py",
   "mimetype": "text/x-python",
   "name": "python",
   "nbconvert_exporter": "python",
   "pygments_lexer": "ipython3",
   "version": "3.7.10"
  }
 },
 "nbformat": 4,
 "nbformat_minor": 5
}
