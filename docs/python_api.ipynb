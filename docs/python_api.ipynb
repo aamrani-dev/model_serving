{
 "cells": [
  {
   "cell_type": "markdown",
   "id": "5d28dd58",
   "metadata": {},
   "source": [
    "# Python API \n",
    "\n",
    "We offer a Python API to use Triton Inference Server. By using this API, you can load your data from a pickle file, create a Triton inference engine, prepare your requests and perform asynchronous inferences.\n",
    "\n",
    "* **load_data**:  read data from a pickle file. \n",
    "* **setup**: read and parse received FLAGS\n",
    "* **prepare_requests**: split input data into chunks of size (batch_size)\n",
    "* **async_infer**: perform asynchronous inferences\n",
    "* **save_data**: save predictions to a pickle file \n"
   ]
  }
 ],
 "metadata": {
  "kernelspec": {
   "display_name": "Python 3",
   "language": "python",
   "name": "python3"
  },
  "language_info": {
   "codemirror_mode": {
    "name": "ipython",
    "version": 3
   },
   "file_extension": ".py",
   "mimetype": "text/x-python",
   "name": "python",
   "nbconvert_exporter": "python",
   "pygments_lexer": "ipython3",
   "version": "3.7.10"
  }
 },
 "nbformat": 4,
 "nbformat_minor": 5
}
